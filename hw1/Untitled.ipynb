{
 "cells": [
  {
   "cell_type": "code",
   "execution_count": 1,
   "id": "bbfa29d1-cb94-4033-af4c-8f980d7074b1",
   "metadata": {},
   "outputs": [],
   "source": [
    "import numpy as np"
   ]
  },
  {
   "cell_type": "code",
   "execution_count": 2,
   "id": "5e7259e1-6d88-4511-9ddb-d6d10d31d12c",
   "metadata": {},
   "outputs": [],
   "source": [
    "def NAND(a, b):\n",
    "    return 1 - (a & b)  # NOT (a AND b)"
   ]
  },
  {
   "cell_type": "code",
   "execution_count": 9,
   "id": "881990d7-4855-4607-ab79-5e5ffe55f710",
   "metadata": {},
   "outputs": [
    {
     "data": {
      "text/plain": [
       "1"
      ]
     },
     "execution_count": 9,
     "metadata": {},
     "output_type": "execute_result"
    }
   ],
   "source": [
    "NAND(2, 0)"
   ]
  },
  {
   "cell_type": "code",
   "execution_count": 11,
   "id": "d3dd0911-8bd0-405d-90a5-df85a29a5247",
   "metadata": {},
   "outputs": [
    {
     "data": {
      "text/plain": [
       "1"
      ]
     },
     "execution_count": 11,
     "metadata": {},
     "output_type": "execute_result"
    }
   ],
   "source": [
    "1 - (2 & 1)"
   ]
  },
  {
   "cell_type": "code",
   "execution_count": 14,
   "id": "62044cd8-1f0a-494a-9379-906c6dcc3424",
   "metadata": {},
   "outputs": [
    {
     "data": {
      "text/plain": [
       "-2"
      ]
     },
     "execution_count": 14,
     "metadata": {},
     "output_type": "execute_result"
    }
   ],
   "source": [
    "NAND(3, 3)"
   ]
  },
  {
   "cell_type": "code",
   "execution_count": 15,
   "id": "d232d645-819b-4bc7-999b-4ea2b8d1030a",
   "metadata": {},
   "outputs": [
    {
     "name": "stdout",
     "output_type": "stream",
     "text": [
      "1\n",
      "0\n"
     ]
    }
   ],
   "source": [
    "# A NOT gate can be built by connecting both inputs of a NAND gate to the same value.\n",
    "\n",
    "def NOT(a):\n",
    "    return NAND(a, a)\n",
    "\n",
    "# Test\n",
    "print(NOT(0)) # Output: 1\n",
    "print(NOT(1)) # Output: 0"
   ]
  },
  {
   "cell_type": "code",
   "execution_count": 17,
   "id": "83ddceb5-bc15-41e7-905c-ac8b80592e2b",
   "metadata": {},
   "outputs": [
    {
     "data": {
      "text/plain": [
       "0"
      ]
     },
     "execution_count": 17,
     "metadata": {},
     "output_type": "execute_result"
    }
   ],
   "source": [
    "NAND(1, 1)"
   ]
  },
  {
   "cell_type": "code",
   "execution_count": 18,
   "id": "4b2902c2-0409-41ce-9fce-24b0e23b0f5a",
   "metadata": {},
   "outputs": [
    {
     "name": "stdout",
     "output_type": "stream",
     "text": [
      "0\n",
      "0\n",
      "0\n",
      "1\n"
     ]
    }
   ],
   "source": [
    "# An AND gate can be built by negating the output of a NAND gate.\n",
    "\n",
    "def AND(a, b):\n",
    "    return NOT(NAND(a, b))\n",
    "\n",
    "# Test\n",
    "print(AND(0, 0))  # Output: 0\n",
    "print(AND(0, 1))  # Output: 0\n",
    "print(AND(1, 0))  # Output: 0\n",
    "print(AND(1, 1))  # Output: 1"
   ]
  },
  {
   "cell_type": "code",
   "execution_count": 52,
   "id": "a7ba7a83-c7d4-4aed-9bc4-9c50a67bc524",
   "metadata": {},
   "outputs": [
    {
     "name": "stdout",
     "output_type": "stream",
     "text": [
      "0\n",
      "1\n",
      "1\n",
      "1\n"
     ]
    }
   ],
   "source": [
    "def OR(a, b):\n",
    "    return NAND(NOT(a), NOT(b))\n",
    "\n",
    "# Test\n",
    "print(OR(0, 0))  # Output: 0\n",
    "print(OR(0, 1))  # Output: 1\n",
    "print(OR(1, 0))  # Output: 1\n",
    "print(OR(1, 1))  # Output: 1"
   ]
  },
  {
   "cell_type": "code",
   "execution_count": 51,
   "id": "c9f16b77-eaf4-4c1e-b375-b4d9d8736dbc",
   "metadata": {},
   "outputs": [],
   "source": [
    "def XOR(a, b):\n",
    "    c = NAND(a, b)\n",
    "    return NAND(NAND(a, c), NAND(b, c))"
   ]
  },
  {
   "cell_type": "code",
   "execution_count": 53,
   "id": "3ebf4f1b-596c-4201-b121-fd1ecb781327",
   "metadata": {},
   "outputs": [
    {
     "name": "stdout",
     "output_type": "stream",
     "text": [
      "(0, 0)\n",
      "(1, 0)\n",
      "(1, 0)\n",
      "(0, 1)\n"
     ]
    }
   ],
   "source": [
    "def half_adder(A, B):\n",
    "    S = XOR(A, B)  # Sum using XOR\n",
    "    C = AND(A, B)  # Carry using AND\n",
    "    return S, C\n",
    "\n",
    "# Test\n",
    "print(half_adder(0, 0))\n",
    "print(half_adder(0, 1))\n",
    "print(half_adder(1, 0))\n",
    "print(half_adder(1, 1))"
   ]
  },
  {
   "cell_type": "code",
   "execution_count": 54,
   "id": "11b7471f-f304-4974-8eef-86948298e2b8",
   "metadata": {},
   "outputs": [
    {
     "name": "stdout",
     "output_type": "stream",
     "text": [
      "(0, 0)\n",
      "(1, 0)\n",
      "(0, 1)\n",
      "(1, 1)\n"
     ]
    }
   ],
   "source": [
    "def full_adder(A, B, Cin):\n",
    "    s, c = half_adder(A,   B)\n",
    "    S, C = half_adder(Cin, s)\n",
    "    Cout = OR(c, C)\n",
    "    return S, Cout\n",
    "\n",
    "# Test\n",
    "print(full_adder(0, 0, 0))  # Output: (0, 0)\n",
    "print(full_adder(1, 0, 0))  # Output: (1, 0)\n",
    "print(full_adder(1, 1, 0))  # Output: (0, 1)\n",
    "print(full_adder(1, 1, 1))  # Output: (1, 1)"
   ]
  },
  {
   "cell_type": "code",
   "execution_count": 55,
   "id": "c31cf0b7-34e4-45e9-970d-91d9037a9eb5",
   "metadata": {},
   "outputs": [
    {
     "name": "stdout",
     "output_type": "stream",
     "text": [
      "[0, 0, 1, 0, 1]\n"
     ]
    }
   ],
   "source": [
    "def multibit_adder(A, B, carrybit=False):\n",
    "    assert(len(A) == len(B))\n",
    "    \n",
    "    n = len(A)\n",
    "    c = 0\n",
    "    S = []\n",
    "    for i in range(n):\n",
    "        s, c = full_adder(A[i], B[i], c)\n",
    "        S.append(s)\n",
    "    if carrybit:\n",
    "        S.append(c)  # add the extra carry bit\n",
    "    return S\n",
    "\n",
    "# Test\n",
    "A = [1, 1, 0, 1]  # 1 + 2 + 8 = 11 in binary\n",
    "B = [1, 0, 0, 1]  # 1 + 8 = 9 in binary\n",
    "print(multibit_adder(A, B, carrybit=True))"
   ]
  },
  {
   "cell_type": "code",
   "execution_count": 62,
   "id": "30bc1125-2553-4be1-84dc-318348040890",
   "metadata": {},
   "outputs": [
    {
     "name": "stdout",
     "output_type": "stream",
     "text": [
      "1\n",
      "0\n",
      "0\n",
      "1\n"
     ]
    }
   ],
   "source": [
    "n = len(A)\n",
    "for i in range(n):\n",
    "    s, c = full_adder(A[i], B[i], 0)\n",
    "    print(c)"
   ]
  },
  {
   "cell_type": "code",
   "execution_count": 63,
   "id": "14753b0b-9357-474e-8bc9-7c0b3da53f29",
   "metadata": {},
   "outputs": [
    {
     "data": {
      "text/plain": [
       "5"
      ]
     },
     "execution_count": 63,
     "metadata": {},
     "output_type": "execute_result"
    }
   ],
   "source": [
    "0b101"
   ]
  },
  {
   "cell_type": "code",
   "execution_count": 64,
   "id": "aef013ca-4fd0-4970-9322-e64f118ccbd9",
   "metadata": {},
   "outputs": [
    {
     "data": {
      "text/plain": [
       "3"
      ]
     },
     "execution_count": 64,
     "metadata": {},
     "output_type": "execute_result"
    }
   ],
   "source": [
    "0b011"
   ]
  },
  {
   "cell_type": "code",
   "execution_count": 65,
   "id": "96b82301-0f51-43fe-b5a3-4e2327d937ad",
   "metadata": {},
   "outputs": [
    {
     "data": {
      "text/plain": [
       "0"
      ]
     },
     "execution_count": 65,
     "metadata": {},
     "output_type": "execute_result"
    }
   ],
   "source": [
    "XOR(1, 1)"
   ]
  },
  {
   "cell_type": "code",
   "execution_count": 98,
   "id": "6fcf1ad8-0f39-4524-8c90-55ac6cc96362",
   "metadata": {},
   "outputs": [],
   "source": [
    "def multibit_negative(A):\n",
    "    \"\"\"Multi-bit integer negative operator\n",
    "\n",
    "    This function take the binary number A and return negative A using\n",
    "    two's complement.\n",
    "    In other words, if the input\n",
    "        A = 3 = 0b011,\n",
    "    then the output is\n",
    "        -A = -3 = 0b101.\n",
    "\n",
    "    Args:\n",
    "        A: input number in binary represented as a python list, with\n",
    "           the least significant digit be the first.\n",
    "           That is, the binary 0b011 should be given by [1,1,0].\n",
    "\n",
    "    Returns:\n",
    "        Negative A using two's complement represented as a python\n",
    "        list, with the least significant digit be the first.\n",
    "\n",
    "    \"\"\"\n",
    "    # TODO: implement the function here\n",
    "    \n",
    "    n = len(A)\n",
    "    l = 1\n",
    "    \n",
    "    S = []\n",
    "    for i in range(n):\n",
    "        s = NOT(A[i])\n",
    "        S.append(s)\n",
    "\n",
    "    print(S)\n",
    "    print(S[-1])\n",
    "        \n",
    "    S[-1] = XOR(S[-1], l)\n",
    "    print(S[-1])\n",
    "    \n",
    "    return S"
   ]
  },
  {
   "cell_type": "code",
   "execution_count": 99,
   "id": "4f556846-c27b-4958-835e-19c42b722722",
   "metadata": {},
   "outputs": [
    {
     "name": "stdout",
     "output_type": "stream",
     "text": [
      "[0, 0, 1]\n",
      "1\n",
      "0\n"
     ]
    },
    {
     "data": {
      "text/plain": [
       "[0, 0, 0]"
      ]
     },
     "execution_count": 99,
     "metadata": {},
     "output_type": "execute_result"
    }
   ],
   "source": [
    "multibit_negative([1, 1, 0])"
   ]
  },
  {
   "cell_type": "code",
   "execution_count": 93,
   "id": "67c53fe8-cda0-4d36-a81f-36e1539db84c",
   "metadata": {},
   "outputs": [
    {
     "data": {
      "text/plain": [
       "1"
      ]
     },
     "execution_count": 93,
     "metadata": {},
     "output_type": "execute_result"
    }
   ],
   "source": [
    "XOR(0, 1)"
   ]
  },
  {
   "cell_type": "code",
   "execution_count": 91,
   "id": "e1a1c3dc-a2c3-47e8-8508-b1de5549617e",
   "metadata": {},
   "outputs": [
    {
     "data": {
      "text/plain": [
       "1"
      ]
     },
     "execution_count": 91,
     "metadata": {},
     "output_type": "execute_result"
    }
   ],
   "source": [
    "A[-1]"
   ]
  },
  {
   "cell_type": "code",
   "execution_count": 83,
   "id": "a7e22bec-2a36-4cdb-9267-1f32580ec35d",
   "metadata": {},
   "outputs": [
    {
     "data": {
      "text/plain": [
       "3"
      ]
     },
     "execution_count": 83,
     "metadata": {},
     "output_type": "execute_result"
    }
   ],
   "source": [
    "0b0011"
   ]
  },
  {
   "cell_type": "code",
   "execution_count": 84,
   "id": "5f4ef2da-b809-437a-bf4a-96927081ae81",
   "metadata": {},
   "outputs": [
    {
     "data": {
      "text/plain": [
       "13"
      ]
     },
     "execution_count": 84,
     "metadata": {},
     "output_type": "execute_result"
    }
   ],
   "source": [
    "0b1101"
   ]
  },
  {
   "cell_type": "code",
   "execution_count": 86,
   "id": "7d062ae9-766e-4dd2-8201-10d42aee935e",
   "metadata": {},
   "outputs": [
    {
     "data": {
      "text/plain": [
       "1"
      ]
     },
     "execution_count": 86,
     "metadata": {},
     "output_type": "execute_result"
    }
   ],
   "source": [
    "XOR(0,1)"
   ]
  },
  {
   "cell_type": "code",
   "execution_count": 88,
   "id": "3a6dec51-ea1b-44b4-be38-c671de70d291",
   "metadata": {},
   "outputs": [
    {
     "data": {
      "text/plain": [
       "0"
      ]
     },
     "execution_count": 88,
     "metadata": {},
     "output_type": "execute_result"
    }
   ],
   "source": [
    "[0, 0, 0][-1]"
   ]
  },
  {
   "cell_type": "code",
   "execution_count": null,
   "id": "46661010-9544-4cad-965d-a85386d26cae",
   "metadata": {},
   "outputs": [],
   "source": []
  }
 ],
 "metadata": {
  "kernelspec": {
   "display_name": "Python (venv)",
   "language": "python",
   "name": "venv"
  },
  "language_info": {
   "codemirror_mode": {
    "name": "ipython",
    "version": 3
   },
   "file_extension": ".py",
   "mimetype": "text/x-python",
   "name": "python",
   "nbconvert_exporter": "python",
   "pygments_lexer": "ipython3",
   "version": "3.13.2"
  }
 },
 "nbformat": 4,
 "nbformat_minor": 5
}
