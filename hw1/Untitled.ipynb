{
 "cells": [
  {
   "cell_type": "code",
   "execution_count": 1,
   "id": "bbfa29d1-cb94-4033-af4c-8f980d7074b1",
   "metadata": {},
   "outputs": [],
   "source": [
    "import numpy as np"
   ]
  },
  {
   "cell_type": "code",
   "execution_count": 2,
   "id": "5e7259e1-6d88-4511-9ddb-d6d10d31d12c",
   "metadata": {},
   "outputs": [],
   "source": [
    "def NAND(a, b):\n",
    "    return 1 - (a & b)  # NOT (a AND b)"
   ]
  },
  {
   "cell_type": "code",
   "execution_count": 9,
   "id": "881990d7-4855-4607-ab79-5e5ffe55f710",
   "metadata": {},
   "outputs": [
    {
     "data": {
      "text/plain": [
       "1"
      ]
     },
     "execution_count": 9,
     "metadata": {},
     "output_type": "execute_result"
    }
   ],
   "source": [
    "NAND(2, 0)"
   ]
  },
  {
   "cell_type": "code",
   "execution_count": 11,
   "id": "d3dd0911-8bd0-405d-90a5-df85a29a5247",
   "metadata": {},
   "outputs": [
    {
     "data": {
      "text/plain": [
       "1"
      ]
     },
     "execution_count": 11,
     "metadata": {},
     "output_type": "execute_result"
    }
   ],
   "source": [
    "1 - (2 & 1)"
   ]
  },
  {
   "cell_type": "code",
   "execution_count": 14,
   "id": "62044cd8-1f0a-494a-9379-906c6dcc3424",
   "metadata": {},
   "outputs": [
    {
     "data": {
      "text/plain": [
       "-2"
      ]
     },
     "execution_count": 14,
     "metadata": {},
     "output_type": "execute_result"
    }
   ],
   "source": [
    "NAND(3, 3)"
   ]
  },
  {
   "cell_type": "code",
   "execution_count": 15,
   "id": "d232d645-819b-4bc7-999b-4ea2b8d1030a",
   "metadata": {},
   "outputs": [
    {
     "name": "stdout",
     "output_type": "stream",
     "text": [
      "1\n",
      "0\n"
     ]
    }
   ],
   "source": [
    "# A NOT gate can be built by connecting both inputs of a NAND gate to the same value.\n",
    "\n",
    "def NOT(a):\n",
    "    return NAND(a, a)\n",
    "\n",
    "# Test\n",
    "print(NOT(0)) # Output: 1\n",
    "print(NOT(1)) # Output: 0"
   ]
  },
  {
   "cell_type": "code",
   "execution_count": 17,
   "id": "83ddceb5-bc15-41e7-905c-ac8b80592e2b",
   "metadata": {},
   "outputs": [
    {
     "data": {
      "text/plain": [
       "0"
      ]
     },
     "execution_count": 17,
     "metadata": {},
     "output_type": "execute_result"
    }
   ],
   "source": [
    "NAND(1, 1)"
   ]
  },
  {
   "cell_type": "code",
   "execution_count": 18,
   "id": "4b2902c2-0409-41ce-9fce-24b0e23b0f5a",
   "metadata": {},
   "outputs": [
    {
     "name": "stdout",
     "output_type": "stream",
     "text": [
      "0\n",
      "0\n",
      "0\n",
      "1\n"
     ]
    }
   ],
   "source": [
    "# An AND gate can be built by negating the output of a NAND gate.\n",
    "\n",
    "def AND(a, b):\n",
    "    return NOT(NAND(a, b))\n",
    "\n",
    "# Test\n",
    "print(AND(0, 0))  # Output: 0\n",
    "print(AND(0, 1))  # Output: 0\n",
    "print(AND(1, 0))  # Output: 0\n",
    "print(AND(1, 1))  # Output: 1"
   ]
  },
  {
   "cell_type": "code",
   "execution_count": 52,
   "id": "a7ba7a83-c7d4-4aed-9bc4-9c50a67bc524",
   "metadata": {},
   "outputs": [
    {
     "name": "stdout",
     "output_type": "stream",
     "text": [
      "0\n",
      "1\n",
      "1\n",
      "1\n"
     ]
    }
   ],
   "source": [
    "def OR(a, b):\n",
    "    return NAND(NOT(a), NOT(b))\n",
    "\n",
    "# Test\n",
    "print(OR(0, 0))  # Output: 0\n",
    "print(OR(0, 1))  # Output: 1\n",
    "print(OR(1, 0))  # Output: 1\n",
    "print(OR(1, 1))  # Output: 1"
   ]
  },
  {
   "cell_type": "code",
   "execution_count": 51,
   "id": "c9f16b77-eaf4-4c1e-b375-b4d9d8736dbc",
   "metadata": {},
   "outputs": [],
   "source": [
    "def XOR(a, b):\n",
    "    c = NAND(a, b)\n",
    "    return NAND(NAND(a, c), NAND(b, c))"
   ]
  },
  {
   "cell_type": "code",
   "execution_count": 53,
   "id": "3ebf4f1b-596c-4201-b121-fd1ecb781327",
   "metadata": {},
   "outputs": [
    {
     "name": "stdout",
     "output_type": "stream",
     "text": [
      "(0, 0)\n",
      "(1, 0)\n",
      "(1, 0)\n",
      "(0, 1)\n"
     ]
    }
   ],
   "source": [
    "def half_adder(A, B):\n",
    "    S = XOR(A, B)  # Sum using XOR\n",
    "    C = AND(A, B)  # Carry using AND\n",
    "    return S, C\n",
    "\n",
    "# Test\n",
    "print(half_adder(0, 0))\n",
    "print(half_adder(0, 1))\n",
    "print(half_adder(1, 0))\n",
    "print(half_adder(1, 1))"
   ]
  },
  {
   "cell_type": "code",
   "execution_count": 54,
   "id": "11b7471f-f304-4974-8eef-86948298e2b8",
   "metadata": {},
   "outputs": [
    {
     "name": "stdout",
     "output_type": "stream",
     "text": [
      "(0, 0)\n",
      "(1, 0)\n",
      "(0, 1)\n",
      "(1, 1)\n"
     ]
    }
   ],
   "source": [
    "def full_adder(A, B, Cin):\n",
    "    s, c = half_adder(A,   B)\n",
    "    S, C = half_adder(Cin, s)\n",
    "    Cout = OR(c, C)\n",
    "    return S, Cout\n",
    "\n",
    "# Test\n",
    "print(full_adder(0, 0, 0))  # Output: (0, 0)\n",
    "print(full_adder(1, 0, 0))  # Output: (1, 0)\n",
    "print(full_adder(1, 1, 0))  # Output: (0, 1)\n",
    "print(full_adder(1, 1, 1))  # Output: (1, 1)"
   ]
  },
  {
   "cell_type": "code",
   "execution_count": 55,
   "id": "c31cf0b7-34e4-45e9-970d-91d9037a9eb5",
   "metadata": {},
   "outputs": [
    {
     "name": "stdout",
     "output_type": "stream",
     "text": [
      "[0, 0, 1, 0, 1]\n"
     ]
    }
   ],
   "source": [
    "def multibit_adder(A, B, carrybit=False):\n",
    "    assert(len(A) == len(B))\n",
    "    \n",
    "    n = len(A)\n",
    "    c = 0\n",
    "    S = []\n",
    "    for i in range(n):\n",
    "        s, c = full_adder(A[i], B[i], c)\n",
    "        S.append(s)\n",
    "    if carrybit:\n",
    "        S.append(c)  # add the extra carry bit\n",
    "    return S\n",
    "\n",
    "# Test\n",
    "A = [1, 1, 0, 1]  # 1 + 2 + 8 = 11 in binary\n",
    "B = [1, 0, 0, 1]  # 1 + 8 = 9 in binary\n",
    "print(multibit_adder(A, B, carrybit=True))"
   ]
  },
  {
   "cell_type": "code",
   "execution_count": 62,
   "id": "30bc1125-2553-4be1-84dc-318348040890",
   "metadata": {},
   "outputs": [
    {
     "name": "stdout",
     "output_type": "stream",
     "text": [
      "1\n",
      "0\n",
      "0\n",
      "1\n"
     ]
    }
   ],
   "source": [
    "n = len(A)\n",
    "for i in range(n):\n",
    "    s, c = full_adder(A[i], B[i], 0)\n",
    "    print(c)"
   ]
  },
  {
   "cell_type": "code",
   "execution_count": 63,
   "id": "14753b0b-9357-474e-8bc9-7c0b3da53f29",
   "metadata": {},
   "outputs": [
    {
     "data": {
      "text/plain": [
       "5"
      ]
     },
     "execution_count": 63,
     "metadata": {},
     "output_type": "execute_result"
    }
   ],
   "source": [
    "0b101"
   ]
  },
  {
   "cell_type": "code",
   "execution_count": 64,
   "id": "aef013ca-4fd0-4970-9322-e64f118ccbd9",
   "metadata": {},
   "outputs": [
    {
     "data": {
      "text/plain": [
       "3"
      ]
     },
     "execution_count": 64,
     "metadata": {},
     "output_type": "execute_result"
    }
   ],
   "source": [
    "0b011"
   ]
  },
  {
   "cell_type": "code",
   "execution_count": 65,
   "id": "96b82301-0f51-43fe-b5a3-4e2327d937ad",
   "metadata": {},
   "outputs": [
    {
     "data": {
      "text/plain": [
       "0"
      ]
     },
     "execution_count": 65,
     "metadata": {},
     "output_type": "execute_result"
    }
   ],
   "source": [
    "XOR(1, 1)"
   ]
  },
  {
   "cell_type": "code",
   "execution_count": 114,
   "id": "6fcf1ad8-0f39-4524-8c90-55ac6cc96362",
   "metadata": {},
   "outputs": [],
   "source": [
    "def multibit_negative(A):\n",
    "    \"\"\"Multi-bit integer negative operator\n",
    "\n",
    "    This function take the binary number A and return negative A using\n",
    "    two's complement.\n",
    "    In other words, if the input\n",
    "        A = 3 = 0b011,\n",
    "    then the output is\n",
    "        -A = -3 = 0b101.\n",
    "\n",
    "    Args:\n",
    "        A: input number in binary represented as a python list, with\n",
    "           the least significant digit be the first.\n",
    "           That is, the binary 0b011 should be given by [1,1,0].\n",
    "\n",
    "    Returns:\n",
    "        Negative A using two's complement represented as a python\n",
    "        list, with the least significant digit be the first.\n",
    "\n",
    "    \"\"\"\n",
    "    # TODO: implement the function here\n",
    "    \n",
    "    n = len(A)\n",
    "    l = 1\n",
    "    \n",
    "    S = []\n",
    "    for i in range(n):\n",
    "        s = NOT(A[i])\n",
    "        S.append(s)\n",
    "        \n",
    "    S[0] = XOR(S[0], l)\n",
    "\n",
    "    \n",
    "    return S"
   ]
  },
  {
   "cell_type": "code",
   "execution_count": 115,
   "id": "4f556846-c27b-4958-835e-19c42b722722",
   "metadata": {},
   "outputs": [
    {
     "data": {
      "text/plain": [
       "[1, 0, 1]"
      ]
     },
     "execution_count": 115,
     "metadata": {},
     "output_type": "execute_result"
    }
   ],
   "source": [
    "multibit_negative([1, 1, 0])"
   ]
  },
  {
   "cell_type": "code",
   "execution_count": 121,
   "id": "cf621bd7-16c4-467a-b3d2-40dde6de5177",
   "metadata": {},
   "outputs": [
    {
     "data": {
      "text/plain": [
       "101"
      ]
     },
     "execution_count": 121,
     "metadata": {},
     "output_type": "execute_result"
    }
   ],
   "source": [
    "int(\"101\")"
   ]
  },
  {
   "cell_type": "code",
   "execution_count": 93,
   "id": "67c53fe8-cda0-4d36-a81f-36e1539db84c",
   "metadata": {},
   "outputs": [
    {
     "data": {
      "text/plain": [
       "1"
      ]
     },
     "execution_count": 93,
     "metadata": {},
     "output_type": "execute_result"
    }
   ],
   "source": [
    "XOR(S[-1], l)"
   ]
  },
  {
   "cell_type": "code",
   "execution_count": 91,
   "id": "e1a1c3dc-a2c3-47e8-8508-b1de5549617e",
   "metadata": {},
   "outputs": [
    {
     "data": {
      "text/plain": [
       "1"
      ]
     },
     "execution_count": 91,
     "metadata": {},
     "output_type": "execute_result"
    }
   ],
   "source": [
    "A[-1]"
   ]
  },
  {
   "cell_type": "code",
   "execution_count": 83,
   "id": "a7e22bec-2a36-4cdb-9267-1f32580ec35d",
   "metadata": {},
   "outputs": [
    {
     "data": {
      "text/plain": [
       "3"
      ]
     },
     "execution_count": 83,
     "metadata": {},
     "output_type": "execute_result"
    }
   ],
   "source": [
    "0b0011"
   ]
  },
  {
   "cell_type": "code",
   "execution_count": 84,
   "id": "5f4ef2da-b809-437a-bf4a-96927081ae81",
   "metadata": {},
   "outputs": [
    {
     "data": {
      "text/plain": [
       "13"
      ]
     },
     "execution_count": 84,
     "metadata": {},
     "output_type": "execute_result"
    }
   ],
   "source": [
    "0b1101"
   ]
  },
  {
   "cell_type": "code",
   "execution_count": 86,
   "id": "7d062ae9-766e-4dd2-8201-10d42aee935e",
   "metadata": {},
   "outputs": [
    {
     "data": {
      "text/plain": [
       "1"
      ]
     },
     "execution_count": 86,
     "metadata": {},
     "output_type": "execute_result"
    }
   ],
   "source": [
    "XOR(0,1)"
   ]
  },
  {
   "cell_type": "code",
   "execution_count": 88,
   "id": "3a6dec51-ea1b-44b4-be38-c671de70d291",
   "metadata": {},
   "outputs": [
    {
     "data": {
      "text/plain": [
       "0"
      ]
     },
     "execution_count": 88,
     "metadata": {},
     "output_type": "execute_result"
    }
   ],
   "source": [
    "[0, 0, 0][-1]"
   ]
  },
  {
   "cell_type": "code",
   "execution_count": 107,
   "id": "46661010-9544-4cad-965d-a85386d26cae",
   "metadata": {},
   "outputs": [
    {
     "name": "stdout",
     "output_type": "stream",
     "text": [
      "[1, 0, 0, 0]\n"
     ]
    }
   ],
   "source": [
    "one = [1]\n",
    "for i in range(1, n):\n",
    "    one.append(0)\n",
    "\n",
    "print(one)"
   ]
  },
  {
   "cell_type": "code",
   "execution_count": 116,
   "id": "cdb7cfa1-20d9-492e-b11e-3c80c7c955f1",
   "metadata": {},
   "outputs": [],
   "source": [
    "one = [0 for _ in range(n)]\n",
    "one[0] = 1"
   ]
  },
  {
   "cell_type": "code",
   "execution_count": 117,
   "id": "1174c11b-3e84-453c-8d58-75a57f2511e7",
   "metadata": {},
   "outputs": [
    {
     "data": {
      "text/plain": [
       "[1, 0, 0, 0]"
      ]
     },
     "execution_count": 117,
     "metadata": {},
     "output_type": "execute_result"
    }
   ],
   "source": [
    "one"
   ]
  },
  {
   "cell_type": "code",
   "execution_count": 135,
   "id": "bc749378-e340-4788-962f-31d879b7cdea",
   "metadata": {},
   "outputs": [],
   "source": [
    "def multibit_negative(A):\n",
    "    n = len(A)\n",
    "    \n",
    "    # Invert all the bits\n",
    "    INV = []\n",
    "    for i in range(n):\n",
    "        s = NOT(A[i])\n",
    "        INV.append(s)\n",
    "        \n",
    "    # Setting the \"1\" list to add to the inverts\n",
    "    l = [1] # So the first number will be 1\n",
    "    for i in range(1, n):\n",
    "        l.append(0)\n",
    "        \n",
    "    # Add 1 to the LSB\n",
    "    Neg_A = multibit_adder(l, INV)\n",
    "\n",
    "    \n",
    "    return Neg_A"
   ]
  },
  {
   "cell_type": "code",
   "execution_count": 127,
   "id": "ec1f8482-7508-47c5-8b15-8dcfd5698d00",
   "metadata": {},
   "outputs": [
    {
     "data": {
      "text/plain": [
       "[1, 1, 1, 0]"
      ]
     },
     "execution_count": 127,
     "metadata": {},
     "output_type": "execute_result"
    }
   ],
   "source": [
    "multibit_negative(B)"
   ]
  },
  {
   "cell_type": "code",
   "execution_count": null,
   "id": "ac45fb2d-0ee7-4ee9-9c6a-a46e5eb16b59",
   "metadata": {},
   "outputs": [],
   "source": []
  },
  {
   "cell_type": "code",
   "execution_count": null,
   "id": "344dca57-bdfc-4caf-ba69-2fa804e6c061",
   "metadata": {},
   "outputs": [],
   "source": []
  },
  {
   "cell_type": "code",
   "execution_count": 137,
   "id": "401cd291-471a-4bd6-823f-724772a60577",
   "metadata": {},
   "outputs": [
    {
     "data": {
      "text/plain": [
       "[1, 0, 1, 0]"
      ]
     },
     "execution_count": 137,
     "metadata": {},
     "output_type": "execute_result"
    }
   ],
   "source": [
    "multibit_negative(A)"
   ]
  },
  {
   "cell_type": "code",
   "execution_count": 128,
   "id": "7d704e34-c89a-47ec-aec1-d0d7d013b0c7",
   "metadata": {},
   "outputs": [
    {
     "data": {
      "text/plain": [
       "[1, 0, 0, 1]"
      ]
     },
     "execution_count": 128,
     "metadata": {},
     "output_type": "execute_result"
    }
   ],
   "source": [
    "B"
   ]
  },
  {
   "cell_type": "code",
   "execution_count": 129,
   "id": "852945c1-bafa-4cb1-8cb1-af7a0ff209ab",
   "metadata": {},
   "outputs": [],
   "source": [
    "def multibit_subtractor(A, B):\n",
    "    \"\"\"Multi-bit integer subtraction operator\n",
    "\n",
    "    This function take the binary numbers A and B, and return A - B.\n",
    "    Be careful on how the carrying bit is handled in multibit_adder().\n",
    "    Make sure that when A == B, the result A - B should be zero.\n",
    "\n",
    "    Args:\n",
    "        A, B: input number in binary represented as a python list,\n",
    "           with the least significant digit be the first.\n",
    "           That is, the binary 0b011 should be given by [1,1,0].\n",
    "\n",
    "    Returns:\n",
    "        A - B represented as a python list, with the least significant\n",
    "        digit be the first.\n",
    "\n",
    "    \"\"\"\n",
    "    # TODO: implement the function here\n",
    "    \n",
    "    # take the binary number B and return negative B\n",
    "    Neg_B = multibit_negative(B)\n",
    "    \n",
    "    # Adding A to -B becomes A - B\n",
    "    Diff = multibit_adder(A, Neg_B)\n",
    "    \n",
    "    return Diff\n",
    "    "
   ]
  },
  {
   "cell_type": "code",
   "execution_count": 130,
   "id": "0c3cb84a-f3db-46e6-9bda-ceb7db3b7998",
   "metadata": {},
   "outputs": [
    {
     "data": {
      "text/plain": [
       "[0, 1, 0, 0]"
      ]
     },
     "execution_count": 130,
     "metadata": {},
     "output_type": "execute_result"
    }
   ],
   "source": [
    "multibit_subtractor(A, B)"
   ]
  },
  {
   "cell_type": "code",
   "execution_count": 131,
   "id": "3348a87f-09d8-45d9-b812-71e3265798ce",
   "metadata": {},
   "outputs": [
    {
     "data": {
      "text/plain": [
       "[1, 1, 0, 1]"
      ]
     },
     "execution_count": 131,
     "metadata": {},
     "output_type": "execute_result"
    }
   ],
   "source": [
    "A"
   ]
  },
  {
   "cell_type": "code",
   "execution_count": 132,
   "id": "ff651783-766f-462d-9671-eb048d104400",
   "metadata": {},
   "outputs": [
    {
     "data": {
      "text/plain": [
       "[1, 0, 0, 1]"
      ]
     },
     "execution_count": 132,
     "metadata": {},
     "output_type": "execute_result"
    }
   ],
   "source": [
    "B"
   ]
  },
  {
   "cell_type": "code",
   "execution_count": 133,
   "id": "c8e3cfff-d433-4efd-8632-3206a5149ecc",
   "metadata": {},
   "outputs": [],
   "source": [
    "one = [0 for i in range(len(A))]\n",
    "one[0] = 1"
   ]
  },
  {
   "cell_type": "code",
   "execution_count": 134,
   "id": "556ac5aa-9afa-4582-9c0a-eaf8caa771e1",
   "metadata": {},
   "outputs": [
    {
     "data": {
      "text/plain": [
       "[1, 0, 0, 0]"
      ]
     },
     "execution_count": 134,
     "metadata": {},
     "output_type": "execute_result"
    }
   ],
   "source": [
    "one"
   ]
  },
  {
   "cell_type": "code",
   "execution_count": 139,
   "id": "a6a51f8a-593e-415e-ab75-c5378fdf0179",
   "metadata": {},
   "outputs": [
    {
     "data": {
      "text/plain": [
       "[0, 0, 0, 0]"
      ]
     },
     "execution_count": 139,
     "metadata": {},
     "output_type": "execute_result"
    }
   ],
   "source": [
    "[0 for i in range(n)]"
   ]
  },
  {
   "cell_type": "code",
   "execution_count": 140,
   "id": "880e514f-782a-4253-8702-7b361beb8892",
   "metadata": {},
   "outputs": [
    {
     "name": "stdout",
     "output_type": "stream",
     "text": [
      "tau=0, I=1.0\n",
      "tau=5, I=1.0\n",
      "tau=10, I=1.0\n",
      "tau=15, I=1.0\n",
      "tau=20, I=1.0\n",
      "tau=25, I=1.0\n",
      "tau=30, I=1.0\n",
      "tau=35, I=1.0\n",
      "tau=40, I=0.0\n",
      "tau=45, I=0.0\n",
      "tau=50, I=0.0\n",
      "tau=55, I=0.0\n"
     ]
    }
   ],
   "source": [
    "from math import exp\n",
    "\n",
    "for tau in range(0, 60, 5):\n",
    "    I = exp(tau) - (exp(tau) - 1.0)\n",
    "    print(f\"{tau=}, {I=}\")"
   ]
  },
  {
   "cell_type": "code",
   "execution_count": 141,
   "id": "0a4b24e2-9b18-4391-939e-911ca357760c",
   "metadata": {},
   "outputs": [
    {
     "name": "stdout",
     "output_type": "stream",
     "text": [
      "0.0000000000000000, -999999999.9999998807907104\n"
     ]
    }
   ],
   "source": [
    "a = 1e-9\n",
    "b = 1\n",
    "c = 1e-9\n",
    "\n",
    "x1 = (-b + (b*b - 4*a*c)**(1/2)) / (2*a)\n",
    "x2 = (-b - (b*b - 4*a*c)**(1/2)) / (2*a)\n",
    "\n",
    "print(f'{x1:.16f}, {x2:.16f}')"
   ]
  },
  {
   "cell_type": "code",
   "execution_count": 142,
   "id": "05c29f6e-5c51-4ee8-8175-d3d86b459882",
   "metadata": {},
   "outputs": [
    {
     "name": "stdout",
     "output_type": "stream",
     "text": [
      "0.1\n",
      "0.2\n",
      "0.3\n",
      "0.4\n",
      "0.5\n",
      "0.6\n",
      "0.7\n",
      "0.8\n",
      "0.9\n",
      "1\n",
      "1.1\n"
     ]
    }
   ],
   "source": [
    "x = 0\n",
    "while x < 1:\n",
    "    x += 0.1\n",
    "    print(f\"{x:g}\")"
   ]
  },
  {
   "cell_type": "code",
   "execution_count": 143,
   "id": "4d43ad86-f359-43f0-868f-f8c16262f6f1",
   "metadata": {},
   "outputs": [
    {
     "name": "stdout",
     "output_type": "stream",
     "text": [
      "0.10000000000000001\n",
      "0.20000000000000001\n",
      "0.30000000000000004\n",
      "0.40000000000000002\n",
      "0.50000000000000000\n",
      "0.59999999999999998\n",
      "0.69999999999999996\n",
      "0.79999999999999993\n",
      "0.89999999999999991\n",
      "0.99999999999999989\n",
      "1.09999999999999987\n"
     ]
    }
   ],
   "source": [
    "x = 0\n",
    "while x < 1:\n",
    "    x += 0.1\n",
    "    print(f\"{x:.17f}\")"
   ]
  },
  {
   "cell_type": "code",
   "execution_count": 144,
   "id": "0901bbcf-525a-4f60-8288-36c0dde451f1",
   "metadata": {},
   "outputs": [],
   "source": [
    "def simple_sum(x, n):\n",
    "    s = 0.0\n",
    "    for i in range(n):\n",
    "        s += x\n",
    "    return s\n"
   ]
  },
  {
   "cell_type": "code",
   "execution_count": 145,
   "id": "12344a08-e59b-4669-9e96-241477a5ab1e",
   "metadata": {},
   "outputs": [
    {
     "name": "stdout",
     "output_type": "stream",
     "text": [
      "Mean = 0.9999999999999999; relative error = 1.3877787807814457e-16\n"
     ]
    }
   ],
   "source": [
    "x = 0.1\n",
    "n = 10\n",
    "s = simple_sum(x, n)\n",
    "e = abs(s/n - x) / x\n",
    "print(f\"Mean = {s}; relative error = {e}\")"
   ]
  },
  {
   "cell_type": "code",
   "execution_count": 146,
   "id": "a6ff575f-0b07-47ed-aaa7-666036108e9a",
   "metadata": {},
   "outputs": [
    {
     "name": "stdout",
     "output_type": "stream",
     "text": [
      "True\n",
      "False\n",
      "False\n",
      "False\n",
      "False\n",
      "False\n",
      "True\n",
      "False\n",
      "False\n",
      "False\n",
      "False\n",
      "False\n"
     ]
    }
   ],
   "source": [
    "# Demonstrate NaN comparison rules\n",
    "\n",
    "import numpy as np\n",
    "\n",
    "x = np.nan\n",
    "y = 1\n",
    "\n",
    "print(x != x)\n",
    "print(x >  x)\n",
    "print(x <  x)\n",
    "print(x >= x)\n",
    "print(x <= x)\n",
    "print(x == x)\n",
    "\n",
    "print(x != y)\n",
    "print(x >  y)\n",
    "print(x <  y)\n",
    "print(x >= y)\n",
    "print(x <= y)\n",
    "print(x == y)"
   ]
  },
  {
   "cell_type": "code",
   "execution_count": 152,
   "id": "52d01817-7e3b-46ea-8875-3a83aae21958",
   "metadata": {},
   "outputs": [
    {
     "data": {
      "text/plain": [
       "np.int64(-1)"
      ]
     },
     "execution_count": 152,
     "metadata": {},
     "output_type": "execute_result"
    }
   ],
   "source": [
    "np.sign(-1)*1"
   ]
  },
  {
   "cell_type": "code",
   "execution_count": 153,
   "id": "53596581-7a27-471d-9927-7d05afa44471",
   "metadata": {},
   "outputs": [
    {
     "data": {
      "text/plain": [
       "0.0"
      ]
     },
     "execution_count": 153,
     "metadata": {},
     "output_type": "execute_result"
    }
   ],
   "source": [
    "float(0)"
   ]
  },
  {
   "cell_type": "code",
   "execution_count": 166,
   "id": "a2b7a6c8-d765-4e5f-ba7c-f3ca8321681c",
   "metadata": {},
   "outputs": [],
   "source": [
    "def quadratic(a, b, c):\n",
    "    \"\"\"Numerically stable quadratic equation solver\n",
    "\n",
    "    The standard quadratic formula\n",
    "\n",
    "        x = (-b +- sqrt(b^2 - 4ac)) / (2a)\n",
    "\n",
    "    is algebraically correct but can suffer from *catastrophic\n",
    "    cancellation* when b^2 >> 4ac and the sign of b matches the\n",
    "    chosen +-.\n",
    "    In that case, subtracting two nearly equal numbers causes a large\n",
    "    loss of precision.\n",
    "\n",
    "    A more stable alternative is obtained by multiplying top and\n",
    "    bottom by the conjugate, leading to two equivalent forms.\n",
    "    To avoid cancellation, choose the version that keeps the\n",
    "    subtraction well-separated:\n",
    "\n",
    "        x1 = (-b - sign(b) * sqrt(b^2 - 4ac)) / (2a)\n",
    "        x2 = (c / a) / x1\n",
    "\n",
    "    This way, at least one root is always computed stably.\n",
    "\n",
    "    Args:\n",
    "        a, b, c: coefficients for the quadratic equation\n",
    "                 a x^2 + b x + c = 0.\n",
    "\n",
    "    Returns:\n",
    "        x1, x2: the two roots of the quadratic equation.\n",
    "                If there are two real roots, x1 < x2.\n",
    "                If there is only one real root, x2 == None.\n",
    "                If there is no real root, x1 == x2 == None.\n",
    "    \"\"\"\n",
    "    # TODO: implement the stable quadratic equation solver here\n",
    "        \n",
    "    root = b**2 - 4*a*c\n",
    "    \n",
    "    # Checking if the roots are real\n",
    "    if root < float(0):\n",
    "        x_1, x_2 = None, None\n",
    "    \n",
    "    # If the roots are real, we can implement this formula to avoid cancellation\n",
    "    else:\n",
    "        x_1_form = (-b - np.sign(b)*np.sqrt(b**2 - 4*a*c))/(2*a)\n",
    "        x_2_form = c/(a*x_1_form)\n",
    "        \n",
    "        # When there are 2 real roots\n",
    "        if x_1_form < x_2_form:\n",
    "            x_1, x_2 = x_1_form, x_2_form\n",
    "            \n",
    "        elif x_1_form > x_2_form:\n",
    "            x_1, x_2 = x_2_form, x_1_form\n",
    "        \n",
    "        # When they are equal there is only 1 real root\n",
    "        else:\n",
    "            x_1, x_2 = x_1_form, None\n",
    "            \n",
    "    return x_1, x_2\n",
    "    \n",
    "    #int(x_1), int(x_2)"
   ]
  },
  {
   "cell_type": "code",
   "execution_count": 167,
   "id": "27409fd6-11c5-4549-88e4-d07526bef11b",
   "metadata": {},
   "outputs": [
    {
     "data": {
      "text/plain": [
       "(np.float64(-999999999.9999999), np.float64(-1.0000000000000003e-09))"
      ]
     },
     "execution_count": 167,
     "metadata": {},
     "output_type": "execute_result"
    }
   ],
   "source": [
    "a = 1e-9\n",
    "b = 1\n",
    "c = 1e-9\n",
    "\n",
    "quadratic(a, b, c)"
   ]
  },
  {
   "cell_type": "code",
   "execution_count": 168,
   "id": "5fac1883-a8bd-467f-abde-bbd4142b3bf2",
   "metadata": {},
   "outputs": [],
   "source": [
    "def quadratic(a, b, c):\n",
    "    \"\"\"Numerically stable quadratic equation solver\n",
    "\n",
    "    The standard quadratic formula\n",
    "\n",
    "        x = (-b +- sqrt(b^2 - 4ac)) / (2a)\n",
    "\n",
    "    is algebraically correct but can suffer from *catastrophic\n",
    "    cancellation* when b^2 >> 4ac and the sign of b matches the\n",
    "    chosen +-.\n",
    "    In that case, subtracting two nearly equal numbers causes a large\n",
    "    loss of precision.\n",
    "\n",
    "    A more stable alternative is obtained by multiplying top and\n",
    "    bottom by the conjugate, leading to two equivalent forms.\n",
    "    To avoid cancellation, choose the version that keeps the\n",
    "    subtraction well-separated:\n",
    "\n",
    "        x1 = (-b - sign(b) * sqrt(b^2 - 4ac)) / (2a)\n",
    "        x2 = (c / a) / x1\n",
    "\n",
    "    This way, at least one root is always computed stably.\n",
    "\n",
    "    Args:\n",
    "        a, b, c: coefficients for the quadratic equation\n",
    "                 a x^2 + b x + c = 0.\n",
    "\n",
    "    Returns:\n",
    "        x1, x2: the two roots of the quadratic equation.\n",
    "                If there are two real roots, x1 < x2.\n",
    "                If there is only one real root, x2 == None.\n",
    "                If there is no real root, x1 == x2 == None.\n",
    "    \"\"\"\n",
    "    if (b**2 - 4*a*c)<0.:\n",
    "        x1 = None\n",
    "        x2 = None \n",
    "    else:\n",
    "        _x1 = (-b - np.sign(b) * np.sqrt(b**2 - 4*a*c)) / (2*a)\n",
    "        _x2 = (c / a) / _x1\n",
    "        if _x1<_x2:\n",
    "            x1 = _x1\n",
    "            x2 = _x2\n",
    "        elif _x1>_x2:\n",
    "            x1 = _x2\n",
    "            x2 = _x1\n",
    "        else: \n",
    "            x1 = _x1\n",
    "            x2 = None\n",
    "    return x1,x2"
   ]
  },
  {
   "cell_type": "code",
   "execution_count": 169,
   "id": "b8dea80f-5a18-415e-9b1f-ca3f4d987873",
   "metadata": {},
   "outputs": [
    {
     "data": {
      "text/plain": [
       "(np.float64(-999999999.9999999), np.float64(-1e-09))"
      ]
     },
     "execution_count": 169,
     "metadata": {},
     "output_type": "execute_result"
    }
   ],
   "source": [
    "quadratic(a, b, c)"
   ]
  },
  {
   "cell_type": "code",
   "execution_count": 195,
   "id": "e743aa46-f658-4894-b4e2-897905cc3e4e",
   "metadata": {},
   "outputs": [],
   "source": [
    "X0=[-0.5, 0, 0.5]\n",
    "\n",
    "m=1.0,\n",
    "\n",
    "k=1.0\n",
    "\n",
    "K = np.zeros((len(X0), len(X0)))\n",
    "for i in range(K.shape[0]):\n",
    "    for j in range(K.shape[1]):\n",
    "        if i == j:\n",
    "            K[i, j] = 2*k\n",
    "        elif abs(i-j) == 1:\n",
    "            K[i,j] = -1*k"
   ]
  },
  {
   "cell_type": "code",
   "execution_count": 196,
   "id": "05ee3fcb-fa54-48c4-8d7c-658231b94c00",
   "metadata": {},
   "outputs": [
    {
     "data": {
      "text/plain": [
       "array([[ 2., -1.,  0.],\n",
       "       [-1.,  2., -1.],\n",
       "       [ 0., -1.,  2.]])"
      ]
     },
     "execution_count": 196,
     "metadata": {},
     "output_type": "execute_result"
    }
   ],
   "source": [
    "K"
   ]
  },
  {
   "cell_type": "code",
   "execution_count": 197,
   "id": "47c40902-a528-4829-b5a2-4d6183eaf9f9",
   "metadata": {},
   "outputs": [],
   "source": [
    "eigenvalues, eigenvectors = np.linalg.eig(K / m)\n",
    "Omega = np.sqrt(eigenvalues)"
   ]
  },
  {
   "cell_type": "code",
   "execution_count": 200,
   "id": "0e4d59f2-b58a-4b4c-9090-4ddc1dd1fd03",
   "metadata": {},
   "outputs": [
    {
     "data": {
      "text/plain": [
       "array([1.84775907, 1.41421356, 0.76536686])"
      ]
     },
     "execution_count": 200,
     "metadata": {},
     "output_type": "execute_result"
    }
   ],
   "source": [
    "Omega"
   ]
  },
  {
   "cell_type": "code",
   "execution_count": 202,
   "id": "7df71a77-fb0d-4896-b15f-0af44760c9ba",
   "metadata": {},
   "outputs": [
    {
     "data": {
      "text/plain": [
       "array([[-5.00000000e-01, -7.07106781e-01,  5.00000000e-01],\n",
       "       [ 7.07106781e-01,  6.68563842e-16,  7.07106781e-01],\n",
       "       [-5.00000000e-01,  7.07106781e-01,  5.00000000e-01]])"
      ]
     },
     "execution_count": 202,
     "metadata": {},
     "output_type": "execute_result"
    }
   ],
   "source": [
    "eigenvectors"
   ]
  },
  {
   "cell_type": "code",
   "execution_count": 205,
   "id": "913c811b-aff6-4bbc-bc99-180f7842c8fa",
   "metadata": {},
   "outputs": [
    {
     "data": {
      "text/plain": [
       "array([-2.79985784e-16,  7.07106781e-01, -3.88578059e-16])"
      ]
     },
     "execution_count": 205,
     "metadata": {},
     "output_type": "execute_result"
    }
   ],
   "source": [
    "M0 = np.linalg.solve(eigenvectors, X0)\n",
    "M0"
   ]
  },
  {
   "cell_type": "code",
   "execution_count": 210,
   "id": "e688c5ba-1a47-4fa9-8839-b07268e5535c",
   "metadata": {},
   "outputs": [
    {
     "data": {
      "text/plain": [
       "array([ 2.38118435e-16, -6.72715319e-01, -1.55632823e-17])"
      ]
     },
     "execution_count": 210,
     "metadata": {},
     "output_type": "execute_result"
    }
   ],
   "source": [
    "modal = M0 * np.cos(Omega * 2)\n",
    "modal"
   ]
  },
  {
   "cell_type": "code",
   "execution_count": 212,
   "id": "8a6a4706-4d70-4caf-8132-ab16fc7808ab",
   "metadata": {},
   "outputs": [
    {
     "data": {
      "text/plain": [
       "array([ 4.75681564e-01, -2.92382881e-16, -4.75681564e-01])"
      ]
     },
     "execution_count": 212,
     "metadata": {},
     "output_type": "execute_result"
    }
   ],
   "source": [
    "d = eigenvectors @ modal\n",
    "d"
   ]
  },
  {
   "cell_type": "code",
   "execution_count": 187,
   "id": "1682775e-0e1e-4672-ad1b-d5f1315b233b",
   "metadata": {},
   "outputs": [],
   "source": [
    "eigenvalues, eigenvectors = np.linalg.eig(K / m)"
   ]
  },
  {
   "cell_type": "code",
   "execution_count": 213,
   "id": "884d3783-538d-47e5-a71d-1ce1112fc6ba",
   "metadata": {},
   "outputs": [
    {
     "data": {
      "text/plain": [
       "array([[ 2., -1.,  0.],\n",
       "       [-1.,  2., -1.],\n",
       "       [ 0., -1.,  2.]])"
      ]
     },
     "execution_count": 213,
     "metadata": {},
     "output_type": "execute_result"
    }
   ],
   "source": [
    "K = np.zeros((3,3))\n",
    "for i in range(3):\n",
    "    if i == 0:\n",
    "        K[i,i] = 2.\n",
    "        K[i,i+1] = -1.\n",
    "        continue\n",
    "    if i == 3-1:\n",
    "        K[i,i] = 2.\n",
    "        K[i,i-1] = -1.\n",
    "        continue\n",
    "    K[i,i-1] = -1.\n",
    "    K[i,i]   = 2.\n",
    "    K[i,i+1] = -1.\n",
    "\n",
    "K"
   ]
  },
  {
   "cell_type": "code",
   "execution_count": 215,
   "id": "89ec1885-70af-48c9-b234-1c58abd07564",
   "metadata": {},
   "outputs": [],
   "source": [
    "X0 = np.array(X0)"
   ]
  },
  {
   "cell_type": "code",
   "execution_count": 216,
   "id": "d0cae8b0-35dd-404d-a687-3ed5cad9f073",
   "metadata": {},
   "outputs": [],
   "source": [
    "Omegasqrd,eigenvecs = np.linalg.eig(K/m)\n",
    "Omega = np.sqrt(Omegasqrd)\n",
    "M0 = np.linalg.solve(eigenvecs, X0)"
   ]
  },
  {
   "cell_type": "code",
   "execution_count": 217,
   "id": "d96c1714-1a7b-4838-ab5e-6f6f9ccd6474",
   "metadata": {},
   "outputs": [
    {
     "data": {
      "text/plain": [
       "array([-2.79985784e-16,  7.07106781e-01, -3.88578059e-16])"
      ]
     },
     "execution_count": 217,
     "metadata": {},
     "output_type": "execute_result"
    }
   ],
   "source": [
    "M0"
   ]
  },
  {
   "cell_type": "code",
   "execution_count": 219,
   "id": "ebb562a1-bc31-4e12-bf48-ec02905b0475",
   "metadata": {},
   "outputs": [
    {
     "data": {
      "text/plain": [
       "array([ 4.75681564e-01, -2.92382881e-16, -4.75681564e-01])"
      ]
     },
     "execution_count": 219,
     "metadata": {},
     "output_type": "execute_result"
    }
   ],
   "source": [
    "modal_positions =M0 * np.cos(Omega * 2)\n",
    "eigenvecs @ modal_positions"
   ]
  },
  {
   "cell_type": "code",
   "execution_count": 220,
   "id": "00ce2011-b05d-4a6d-b7fc-843203b090c7",
   "metadata": {},
   "outputs": [
    {
     "data": {
      "text/plain": [
       "0.9999999999999999"
      ]
     },
     "execution_count": 220,
     "metadata": {},
     "output_type": "execute_result"
    }
   ],
   "source": [
    "s"
   ]
  },
  {
   "cell_type": "code",
   "execution_count": null,
   "id": "b15ab6e0-4bd8-49db-be1d-b2e7024051af",
   "metadata": {},
   "outputs": [],
   "source": []
  }
 ],
 "metadata": {
  "kernelspec": {
   "display_name": "Python (venv)",
   "language": "python",
   "name": "venv"
  },
  "language_info": {
   "codemirror_mode": {
    "name": "ipython",
    "version": 3
   },
   "file_extension": ".py",
   "mimetype": "text/x-python",
   "name": "python",
   "nbconvert_exporter": "python",
   "pygments_lexer": "ipython3",
   "version": "3.13.2"
  }
 },
 "nbformat": 4,
 "nbformat_minor": 5
}
